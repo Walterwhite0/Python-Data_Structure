{
  "nbformat": 4,
  "nbformat_minor": 0,
  "metadata": {
    "colab": {
      "provenance": []
    },
    "kernelspec": {
      "name": "python3",
      "display_name": "Python 3"
    },
    "language_info": {
      "name": "python"
    }
  },
  "cells": [
    {
      "cell_type": "markdown",
      "source": [
        "# Data Type and Structures\n",
        "\n",
        "1. What are data structures, and why are they important?\n",
        " - Data structures are special ways to store and manage data in a program. You can think of them like containers that hold your data and decide how you will use it. Different containers work better for different types of data.\n",
        "  \n",
        "    They are important because the right data structure makes your program faster and easier to handle. It helps in adding, removing, changing data easily, saves memory, and also makes searching and sorting quicker.\n",
        "\n",
        "\n",
        "2. Explain the difference between mutable and immutable data types with examples.\n",
        " - In Python, data types are divided into two types based on whether their values can be changed or not — mutable and immutable.\n",
        "  \n",
        "  - Mutable data types are those whose values can be changed after the object is created. We can update, add, or remove elements from them without creating a new object.\n",
        "  Example: List, Dictionary, Set\n",
        "```\n",
        "  #Mutable\n",
        "  my_list = [1, 2, 3]\n",
        "  my_list[1] = 5  #list is modified\n",
        "```\n",
        "  -Immutable data types are those whose values cannot be changed after creation. If we try to modify them, Python will create a new object instead of changing the original one.\n",
        "  Example: Tuple, String, Integer\n",
        "```\n",
        "  #Immutable\n",
        "  my_tuple = (1, 2, 3)\n",
        "  my_tuple[1] = 5    #this will give error because tuple is immutable\n",
        "```\n",
        "\n",
        "3. What are the main differences between lists and tuples in Python?\n",
        "  - In Python, both list and tuple are used to store multiple values, but there are some important differences between them.\n",
        "  \n",
        "    The main difference is that list is mutable which means we can change, add or remove items after it is created. On the other hand, tuple is immutable, so once it is created, we cannot change its content.\n",
        "\n",
        "    Lists use square brackets [ ] while tuples use round brackets ( ).\n",
        "\n",
        "    Lists are slower and take more memory, but they are flexible because we can update them. Tuples are faster and take less memory, and are used when we want to keep the data fixed or safe from changes.\n",
        "\n",
        "    So, we use list when we need to update data, and tuple when we want to keep data constant.\n",
        "\n",
        "4. Describe how dictionaries store data?\n",
        "  - Dictionaries store data in the form of key-value pairs. Each item in a dictionary has a key and a value, and the key is used to access its value.\n",
        "\n",
        "    It works like a real-life dictionary, where you search a word (key) and get its meaning (value). Similarly, in Python dictionary, we use the key to get the value.\n",
        "\n",
        "    Dictionaries are unordered (in older versions), mutable, and the keys must be unique. We can add, update, or delete items easily using keys.\n",
        "\n",
        "    So, a dictionary helps to store related data together and access it quickly using keys instead of indexes.\n",
        "\n",
        "5. Why might you use a set instead of a list in Python?\n",
        "  - In Python, we use a set instead of a list when we want to store unique values only and don't care about the order of items.\n",
        "\n",
        "    Sets automatically remove duplicate values, so if we don’t want any repeated elements, set is better.\n",
        "\n",
        "    Also, sets are faster for checking if an item exists, compared to lists.\n",
        "\n",
        "    So, when we need unique data and quick searching, we prefer using a set instead of a list.\n",
        "\n",
        "6. What is a string in Python, and how is it different from a list?\n",
        "  -  string in Python is a sequence of characters enclosed in quotes, either single (') or double (\"). It can store text and is immutable, meaning you can’t change its characters after it's created.\n",
        "\n",
        "    On the other hand, a list is a collection of multiple items (of any data type) enclosed in square brackets []. Unlike strings, lists are mutable, meaning we can change, add, or remove items.\n",
        "\n",
        "    So, the main difference is:\n",
        "\n",
        "    *   String is for storing text and is immutable.\n",
        "    *   List is for storing multiple items and is mutable.\n",
        "\n",
        "7. How do tuples ensure data integrity in Python?\n",
        "  - Tuples ensure data integrity in Python by being immutable, which means once a tuple is created, its values cannot be changed, added, or removed. This ensures that the data inside a tuple remains constant throughout the program, preventing accidental changes or modification.\n",
        "\n",
        "    Since tuples cannot be modified, they help in maintaining data integrity and protect the data from unwanted updates. This is why tuples are useful when you need to store data that should not change, like fixed configurations or settings.\n",
        "\n",
        "8. What is a hash table, and how does it relate to dictionaries in Python?\n",
        "  - A hash table is a data structure that stores data in a way that allows for fast retrieval based on a key. It works by using a hash function to convert the key into an index of an array where the corresponding value is stored. This helps in quickly finding the value associated with a key.\n",
        "\n",
        "    In Python, a dictionary is built on top of a hash table. It stores data in the form of key-value pairs, and it uses a hash function to map the key to a location in memory, allowing fast access to the value.\n",
        "\n",
        "    So, a hash table is the underlying concept behind dictionaries in Python, and dictionaries use the hash table mechanism to quickly look up values based on their keys.\n",
        "\n",
        "9. Can lists contain different data types in Python?\n",
        "  - Yes, in Python, a list can contain different data types. Unlike some other programming languages, Python lists are heterogeneous, which means you can store values of different types (e.g., integers, strings, floats, etc.) in the same list.\n",
        "\n",
        "    For example, a list can store a mix of numbers, strings, and other types of objects. This makes lists very flexible and allows us to group different types of data together.\n",
        "\n",
        "10. Explain why strings are immutable in Python?\n",
        "  - In Python, strings are immutable because once a string is created, its content cannot be changed. This is done for several reasons:\n",
        "\n",
        "     *   Performance: Immutable objects are faster because they can be optimized by Python internally. If strings were mutable, Python would have to manage changes to them, which would slow things down.\n",
        "    \n",
        "     *   Safety: Making strings immutable ensures that their value remains constant throughout the program. This prevents accidental changes to string data, which can lead to bugs or errors.\n",
        "     \n",
        "     *   Memory Efficiency: Since strings can't be changed, Python can reuse the same string object whenever possible, saving memory.\n",
        "\n",
        "11. What advantages do dictionaries offer over lists for certain tasks?\n",
        "  - Dictionaries offer several advantages over lists for certain tasks because they store data as key-value pairs rather than using indexes like lists.\n",
        "   \n",
        "      * Fast lookups: In dictionaries, accessing a value is faster because you use a key instead of an index. With lists, you have to search through elements, but with dictionaries, the key provides direct access to the value.\n",
        "\n",
        "      * Unique keys: Dictionaries store unique keys, which makes it easier to handle data where you need to associate each item with a unique identifier. Lists can't ensure uniqueness, which might lead to duplicates.\n",
        "\n",
        "      * Flexible data organization: Dictionaries allow you to map complex data to meaningful keys. For example, if you want to store a student’s name along with their marks, you can use the student’s name as the key and the marks as the value, making it easy to access.\n",
        "\n",
        "12. Describe a scenario where using a tuple would be preferable over a list.\n",
        "  - A tuple would be preferable over a list when you have data that should not be changed after it’s created. For example, if you're storing the coordinates of a point in a 2D space (like (x, y)), you don't want those values to change accidentally.\n",
        "    \n",
        "     Since tuples are immutable, their values can't be modified, added, or removed once they’re created, which helps in maintaining data integrity. If you need to ensure that your data remains constant and you don’t need to modify it, a tuple is a better choice than a list.\n",
        "\n",
        "     Tuples also take up less memory and are faster to process than lists, making them ideal when you need to store a fixed collection of items and need faster performance.\n",
        "\n",
        "13. How do sets handle duplicate values in Python?\n",
        "  - In Python, sets automatically remove duplicate values. If you try to add a duplicate value to a set, it will be ignored and not included in the set.\n",
        "\n",
        "     For example, if you add the value 5 to a set twice, the set will only store one 5. This behavior helps in ensuring that a set only contains unique values.\n",
        "\n",
        "     So, sets are useful when you need to store a collection of items without worrying about duplicates.\n",
        "\n",
        "14. How does the “in” keyword work differently for lists and dictionaries?\n",
        "  - The \"in\" keyword works differently for lists and dictionaries because they store data in different ways.\n",
        "\n",
        "     *  For lists: The \"in\" keyword checks if an element is present in the list. It looks through each item in the list to see if the item exists. It checks the values in the list.\n",
        "\n",
        "        For example, 5 in [1, 2, 3, 4, 5] will return True because 5 is an element in the list.\n",
        "\n",
        "     *  For dictionaries: The \"in\" keyword checks if a key exists in the dictionary. It doesn't check the values, but just the keys.\n",
        "\n",
        "        For example, 'name' in {'name': 'John', 'age': 25} will return True because 'name' is a key in the dictionary.\n",
        "\n",
        "15. Can you modify the elements of a tuple? Explain why or why not.\n",
        "  -  No, you cannot modify the elements of a tuple because tuples are immutable. Once a tuple is created, its elements cannot be changed, added, or removed.\n",
        "\n",
        "     This immutability ensures that the data in the tuple remains constant, which is useful when you need to ensure the integrity of the data and avoid accidental changes. If you need to modify the elements, you would have to create a new tuple instead.\n",
        "\n",
        "     So, the key point is that tuples are designed to be unchangeable after they are created.\n",
        "\n",
        "16. What is a nested dictionary, and give an example of its use case?\n",
        "  -  A nested dictionary is a dictionary where the values can themselves be another dictionary. This allows you to store data in a hierarchical or multi-level structure, which is useful when you need to organize complex data.\n",
        "\n",
        "     For example, a nested dictionary can be used to store student information, where each student has their own dictionary with details like name, age, and subjects.\n",
        "```\n",
        "students = {\n",
        "    'Amit': {'age': 15, 'grade': '10th', 'subjects': ['Math', 'Science']},\n",
        "    'Vaibhav': {'age': 14, 'grade': '9th', 'subjects': ['English', 'History']}\n",
        "}\n",
        "```\n",
        "\n",
        "17. Describe the time complexity of accessing elements in a dictionary.\n",
        "  -  In a Python dictionary, the time complexity for accessing elements is O(1) on average, which means it takes a constant time to access a value when you know its key.\n",
        "\n",
        "     Dictionaries in Python are implemented using hash tables, and when you use a key to access a value, Python directly calculates the location of the key in memory (using the hash of the key). This allows for quick lookups.\n",
        "\n",
        "     However, in some rare cases, if multiple keys hash to the same location (called a collision), the time complexity could increase to O(n), where n is the number of elements in the dictionary. But in most cases, the lookup time remains constant.\n",
        "\n",
        "18. In what situations are lists preferred over dictionaries?\n",
        "  -  Lists are preferred over dictionaries when you need to store ordered data or when the order of elements matters. Lists are better when:\n",
        "\n",
        "     *  Order matters: Lists maintain the order of elements, so if you need to keep track of the sequence in which the data is inserted or accessed, lists are a better choice.\n",
        "\n",
        "     *  Index-based access: If you want to access elements using an index (e.g., list[0]), lists are the way to go because they are indexed collections. Dictionaries, on the other hand, use keys, not indexes.\n",
        "\n",
        "     *  Homogeneous data: Lists are useful when you have similar types of data (e.g., a list of numbers or strings) and don't need key-value pairs.\n",
        "\n",
        "     *  Simplicity: If your task is simple and doesn't require a lot of extra functionality like key-based lookups, a list might be more straightforward and easier to use than a dictionary.\n",
        "\n",
        "19.  Why are dictionaries considered unordered, and how does that affect data retrieval?\n",
        "  -  Dictionaries are considered unordered because they do not maintain the insertion order of elements. In a dictionary, the keys are hashed, meaning they are mapped to specific locations in memory, and the order in which items are added doesn’t matter.\n",
        "\n",
        "      Before Python 3.7, dictionaries didn’t guarantee any order of elements, but from Python 3.7 onwards, dictionaries do maintain insertion order. However, the key point is that dictionaries are still designed to access data based on keys, not based on the order in which the data was inserted.\n",
        "\n",
        "      This affects data retrieval in the sense that you cannot rely on the order of elements when accessing or iterating over a dictionary (although, from Python 3.7 onward, you can access the elements in the order they were inserted). Instead, dictionaries focus on fast key-based lookups, making retrieving values using keys very efficient (average time complexity is O(1)).\n",
        "\n",
        "20.  Explain the difference between a list and a dictionary in terms of data retrieval.\n",
        "  -  A list and a dictionary are both used to store data, but the way we get data from them is different.\n",
        "\n",
        "      In a list, we use index numbers to access elements. For example, list[0] gives the first item. Lists keep the order of items, so we can access elements based on their position.\n",
        "\n",
        "      In a dictionary, we use a key to access the value. For example, dict['name'] will give the value stored with that key. The order doesn’t matter much in a dictionary, but we must know the key to get the value.\n",
        "\n",
        "      So, the main difference is lists use indexes, and dictionaries use keys to retrieve data."
      ],
      "metadata": {
        "id": "VqLKwzP5C6Bk"
      }
    },
    {
      "cell_type": "code",
      "execution_count": 1,
      "metadata": {
        "id": "TiKs8qTCCAbx",
        "colab": {
          "base_uri": "https://localhost:8080/"
        },
        "collapsed": true,
        "outputId": "d8b6dc0f-37be-4152-9c56-f6a48ed9bfd1"
      },
      "outputs": [
        {
          "output_type": "stream",
          "name": "stdout",
          "text": [
            "Shubham\n"
          ]
        }
      ],
      "source": [
        "# 1. Write a code to create a string with your name and print it.\n",
        "\n",
        "my_name = \"Shubham\"\n",
        "print(my_name)"
      ]
    },
    {
      "cell_type": "code",
      "source": [
        "# 2. Write a code to find the length of the string \"Hello World\".\n",
        "\n",
        "text = \"Hello World\"\n",
        "print(len(text))"
      ],
      "metadata": {
        "colab": {
          "base_uri": "https://localhost:8080/"
        },
        "collapsed": true,
        "id": "-YAx_jTx09TD",
        "outputId": "da785400-758f-42ad-d10e-572cfcd42c1f"
      },
      "execution_count": 2,
      "outputs": [
        {
          "output_type": "stream",
          "name": "stdout",
          "text": [
            "11\n"
          ]
        }
      ]
    },
    {
      "cell_type": "code",
      "source": [
        "# 3. Write a code to slice the first 3 characters from the string \"Python Programming\".\n",
        "\n",
        "text = \"Python Programming\"\n",
        "print(text[:3])"
      ],
      "metadata": {
        "colab": {
          "base_uri": "https://localhost:8080/"
        },
        "collapsed": true,
        "id": "96msNLNL1NPC",
        "outputId": "a07d9a76-1557-40e1-bf25-d79dc6d68ceb"
      },
      "execution_count": 3,
      "outputs": [
        {
          "output_type": "stream",
          "name": "stdout",
          "text": [
            "Pyt\n"
          ]
        }
      ]
    },
    {
      "cell_type": "code",
      "source": [
        "# 4. Write a code to convert the string \"hello\" to uppercase.\n",
        "\n",
        "text = \"hello\"\n",
        "print(text.upper())"
      ],
      "metadata": {
        "colab": {
          "base_uri": "https://localhost:8080/"
        },
        "collapsed": true,
        "id": "ZuP7FzDf1fer",
        "outputId": "e20bae76-3c80-4886-ed70-0599d74844d3"
      },
      "execution_count": 4,
      "outputs": [
        {
          "output_type": "stream",
          "name": "stdout",
          "text": [
            "HELLO\n"
          ]
        }
      ]
    },
    {
      "cell_type": "code",
      "source": [
        "# 5. Write a code to replace the word \"apple\" with \"orange\" in the string \"I like apple\".\n",
        "\n",
        "text = \"I like apple\"\n",
        "new_text = text.replace(\"apple\", \"orange\")\n",
        "print(new_text)"
      ],
      "metadata": {
        "colab": {
          "base_uri": "https://localhost:8080/"
        },
        "collapsed": true,
        "id": "QlYd8nYL1t5C",
        "outputId": "bb60078d-2b10-4676-ddad-52b89f8d01be"
      },
      "execution_count": 5,
      "outputs": [
        {
          "output_type": "stream",
          "name": "stdout",
          "text": [
            "I like orange\n"
          ]
        }
      ]
    },
    {
      "cell_type": "code",
      "source": [
        "# 6. Write a code to create a list with numbers 1 to 5 and print it.\n",
        "\n",
        "numbers = list(range(1, 6))\n",
        "print(numbers)"
      ],
      "metadata": {
        "colab": {
          "base_uri": "https://localhost:8080/"
        },
        "id": "BGcqa-YB2EWK",
        "outputId": "33ec4ecc-83d9-4ff8-c564-565d5e30fe96"
      },
      "execution_count": 6,
      "outputs": [
        {
          "output_type": "stream",
          "name": "stdout",
          "text": [
            "[1, 2, 3, 4, 5]\n"
          ]
        }
      ]
    },
    {
      "cell_type": "code",
      "source": [
        "# 7. Write a code to append the number 10 to the list [1, 2, 3, 4].\n",
        "\n",
        "numbers = [1, 2, 3, 4]\n",
        "numbers.append(10)\n",
        "print(numbers)"
      ],
      "metadata": {
        "colab": {
          "base_uri": "https://localhost:8080/"
        },
        "id": "j_MuTcrF2im6",
        "outputId": "6b7c7687-9210-49bc-f7ba-f3a6ea68c2ef"
      },
      "execution_count": 7,
      "outputs": [
        {
          "output_type": "stream",
          "name": "stdout",
          "text": [
            "[1, 2, 3, 4, 10]\n"
          ]
        }
      ]
    },
    {
      "cell_type": "code",
      "source": [
        "# 8. Write a code to remove the number 3 from the list [1, 2, 3, 4, 5].\n",
        "\n",
        "numbers = [1, 2, 3, 4, 5]\n",
        "numbers.remove(3)\n",
        "print(numbers)"
      ],
      "metadata": {
        "colab": {
          "base_uri": "https://localhost:8080/"
        },
        "collapsed": true,
        "id": "OwWvrpF62wjS",
        "outputId": "721efe0e-b8e9-4750-a7b0-96c4804bdb43"
      },
      "execution_count": 12,
      "outputs": [
        {
          "output_type": "stream",
          "name": "stdout",
          "text": [
            "[1, 2, 4, 5]\n"
          ]
        }
      ]
    },
    {
      "cell_type": "code",
      "source": [
        "# 9. Write a code to access the second element in the list ['a', 'b', 'c', 'd'].\n",
        "\n",
        "letters = ['a', 'b', 'c', 'd']\n",
        "print(letters[1])"
      ],
      "metadata": {
        "colab": {
          "base_uri": "https://localhost:8080/"
        },
        "collapsed": true,
        "id": "BTdtSiSb3B9x",
        "outputId": "3d3f2003-be5b-48f2-980f-5c2cf0b66e95"
      },
      "execution_count": 13,
      "outputs": [
        {
          "output_type": "stream",
          "name": "stdout",
          "text": [
            "b\n"
          ]
        }
      ]
    },
    {
      "cell_type": "code",
      "source": [
        "# 10. Write a code to reverse the list [10, 20, 30, 40, 50].\n",
        "\n",
        "numbers = [10, 20, 30, 40, 50]\n",
        "numbers.reverse()\n",
        "print(numbers)"
      ],
      "metadata": {
        "colab": {
          "base_uri": "https://localhost:8080/"
        },
        "collapsed": true,
        "id": "0iQlXDgb3pu6",
        "outputId": "f067ef35-8bb5-43c8-e4e4-74ed37a0147d"
      },
      "execution_count": 14,
      "outputs": [
        {
          "output_type": "stream",
          "name": "stdout",
          "text": [
            "[50, 40, 30, 20, 10]\n"
          ]
        }
      ]
    },
    {
      "cell_type": "code",
      "source": [
        "# 11. Write a code to create a tuple with the elements 100, 200, 300 and print it.\n",
        "\n",
        "my_tuple = (100, 200, 300)\n",
        "print(my_tuple)"
      ],
      "metadata": {
        "colab": {
          "base_uri": "https://localhost:8080/"
        },
        "collapsed": true,
        "id": "iu-klNzy36iJ",
        "outputId": "28d4a271-6c05-4c39-eaae-aeb935f4dcc5"
      },
      "execution_count": 15,
      "outputs": [
        {
          "output_type": "stream",
          "name": "stdout",
          "text": [
            "(100, 200, 300)\n"
          ]
        }
      ]
    },
    {
      "cell_type": "code",
      "source": [
        "# 12. Write a code to access the second-to-last element of the tuple ('red', 'green', 'blue', 'yellow').\n",
        "\n",
        "colors = ('red', 'green', 'blue', 'yellow')\n",
        "print(colors[-2])"
      ],
      "metadata": {
        "colab": {
          "base_uri": "https://localhost:8080/"
        },
        "id": "pptonmRX4Kn6",
        "outputId": "c0b2c768-a9ff-40b3-88b6-14299468d809"
      },
      "execution_count": 16,
      "outputs": [
        {
          "output_type": "stream",
          "name": "stdout",
          "text": [
            "blue\n"
          ]
        }
      ]
    },
    {
      "cell_type": "code",
      "source": [
        "# 13. Write a code to find the minimum number in the tuple (10, 20, 5, 15).\n",
        "\n",
        "numbers = (10, 20, 5, 15)\n",
        "print(min(numbers))"
      ],
      "metadata": {
        "colab": {
          "base_uri": "https://localhost:8080/"
        },
        "collapsed": true,
        "id": "q-GKiNiG4f1x",
        "outputId": "ef75a118-0aed-406c-f9ae-90e7780bfc57"
      },
      "execution_count": 17,
      "outputs": [
        {
          "output_type": "stream",
          "name": "stdout",
          "text": [
            "5\n"
          ]
        }
      ]
    },
    {
      "cell_type": "code",
      "source": [
        "# 14. Write a code to find the index of the element \"cat\" in the tuple ('dog', 'cat', 'rabbit').\n",
        "\n",
        "animals = ('dog', 'cat', 'rabbit')\n",
        "print(animals.index('cat'))"
      ],
      "metadata": {
        "colab": {
          "base_uri": "https://localhost:8080/"
        },
        "collapsed": true,
        "id": "tcICL7vw4t2q",
        "outputId": "841af11d-ca75-4eaa-e5c5-fa18a0e43b70"
      },
      "execution_count": 18,
      "outputs": [
        {
          "output_type": "stream",
          "name": "stdout",
          "text": [
            "1\n"
          ]
        }
      ]
    },
    {
      "cell_type": "code",
      "source": [
        "# 15. Write a code to create a tuple containing three different fruits and check if \"kiwi\" is in it.\n",
        "\n",
        "fruits = ('apple', 'banana', 'orange')\n",
        "print('kiwi' in fruits)"
      ],
      "metadata": {
        "colab": {
          "base_uri": "https://localhost:8080/"
        },
        "collapsed": true,
        "id": "cQt0e1dj5X7y",
        "outputId": "05f07c05-7a3c-45b0-b3af-35126d3201f6"
      },
      "execution_count": 19,
      "outputs": [
        {
          "output_type": "stream",
          "name": "stdout",
          "text": [
            "False\n"
          ]
        }
      ]
    },
    {
      "cell_type": "code",
      "source": [
        "# 16. Write a code to create a set with the elements 'a', 'b', 'c' and print it.\n",
        "\n",
        "my_set = {'a', 'b', 'c'}\n",
        "print(my_set)"
      ],
      "metadata": {
        "colab": {
          "base_uri": "https://localhost:8080/"
        },
        "collapsed": true,
        "id": "93tSwhWL5r9R",
        "outputId": "5f404eca-4c16-42de-e740-ac577f817800"
      },
      "execution_count": 22,
      "outputs": [
        {
          "output_type": "stream",
          "name": "stdout",
          "text": [
            "{'b', 'c', 'a'}\n"
          ]
        }
      ]
    },
    {
      "cell_type": "code",
      "source": [
        "# 17. Write a code to clear all elements from the set {1, 2, 3, 4, 5}.\n",
        "\n",
        "my_set = {1, 2, 3, 4, 5}\n",
        "my_set.clear()\n",
        "print(my_set)"
      ],
      "metadata": {
        "colab": {
          "base_uri": "https://localhost:8080/"
        },
        "collapsed": true,
        "id": "HIqQp4O-6T0J",
        "outputId": "62a9da91-9478-4707-f3d0-43acf1b76295"
      },
      "execution_count": 23,
      "outputs": [
        {
          "output_type": "stream",
          "name": "stdout",
          "text": [
            "set()\n"
          ]
        }
      ]
    },
    {
      "cell_type": "code",
      "source": [
        "# 18. Write a code to remove the element 4 from the set {1, 2, 3, 4}.\n",
        "\n",
        "my_set = {1, 2, 3, 4}\n",
        "my_set.remove(4)\n",
        "print(my_set)"
      ],
      "metadata": {
        "id": "lZvMIBm06k_B"
      },
      "execution_count": null,
      "outputs": []
    },
    {
      "cell_type": "code",
      "source": [
        "# 19. Write a code to find the union of two sets {1, 2, 3} and {3, 4, 5}.\n",
        "\n",
        "set_1 = {1, 2, 3}\n",
        "set_2 = {3, 4, 5}\n",
        "union_set = set_1 | set_2\n",
        "print(union_set)"
      ],
      "metadata": {
        "colab": {
          "base_uri": "https://localhost:8080/"
        },
        "collapsed": true,
        "id": "pqd23xV86t3I",
        "outputId": "fc05720d-21bb-4220-e1b8-c45ae33e89db"
      },
      "execution_count": 24,
      "outputs": [
        {
          "output_type": "stream",
          "name": "stdout",
          "text": [
            "{1, 2, 3, 4, 5}\n"
          ]
        }
      ]
    },
    {
      "cell_type": "code",
      "source": [
        "# 20. Write a code to find the intersection of two sets {1, 2, 3} and {2, 3, 4}.\n",
        "\n",
        "set_1 = {1, 2, 3}\n",
        "set_2 = {2, 3, 4}\n",
        "intersection_set = set_1 & set_2\n",
        "print(intersection_set)"
      ],
      "metadata": {
        "colab": {
          "base_uri": "https://localhost:8080/"
        },
        "collapsed": true,
        "id": "bDPq1H7U6_Y5",
        "outputId": "f5e78cc3-464d-4e79-9a96-5458b5777fd6"
      },
      "execution_count": 25,
      "outputs": [
        {
          "output_type": "stream",
          "name": "stdout",
          "text": [
            "{2, 3}\n"
          ]
        }
      ]
    },
    {
      "cell_type": "code",
      "source": [
        "# 21. Write a code to create a dictionary with the keys \"name\", \"age\", and \"city\", and print it.\n",
        "\n",
        "my_dict = {\"name\": \"Shubham\", \"age\": 25, \"city\": \"Dehradun\"}\n",
        "print(my_dict)"
      ],
      "metadata": {
        "colab": {
          "base_uri": "https://localhost:8080/"
        },
        "collapsed": true,
        "id": "L3c20-B19GGS",
        "outputId": "a9910e7a-08dc-42e8-b597-5ede9a2c2ae8"
      },
      "execution_count": 26,
      "outputs": [
        {
          "output_type": "stream",
          "name": "stdout",
          "text": [
            "{'name': 'Shubham', 'age': 25, 'city': 'Dehradun'}\n"
          ]
        }
      ]
    },
    {
      "cell_type": "code",
      "source": [
        "# 22. Write a code to add a new key-value pair \"country\": \"USA\" to the dictionary {'name': 'John', 'age': 25}.\n",
        "\n",
        "my_dict = {'name': 'John', 'age': 25}\n",
        "my_dict['country'] = 'USA'\n",
        "print(my_dict)"
      ],
      "metadata": {
        "id": "N5KCjoJ49WGZ"
      },
      "execution_count": null,
      "outputs": []
    },
    {
      "cell_type": "code",
      "source": [
        "# 23. Write a code to access the value associated with the key \"name\" in the dictionary {'name': 'Alice', 'age': 30}.\n",
        "\n",
        "my_dict = {'name': 'Alice', 'age': 30}\n",
        "print(my_dict['name'])"
      ],
      "metadata": {
        "id": "GIWQubXk9nWo"
      },
      "execution_count": null,
      "outputs": []
    },
    {
      "cell_type": "code",
      "source": [
        "# 24. Write a code to remove the key \"age\" from the dictionary {'name': 'Bob', 'age': 22, 'city': 'New York'}.\n",
        "\n",
        "my_dict = {'name': 'Bob', 'age': 22, 'city': 'New York'}\n",
        "del my_dict['age']\n",
        "print(my_dict)"
      ],
      "metadata": {
        "id": "XTpuIzpN9z7w"
      },
      "execution_count": null,
      "outputs": []
    },
    {
      "cell_type": "code",
      "source": [
        "# 25. Write a code to check if the key \"city\" exists in the dictionary {'name': 'Alice', 'city': 'Paris'}.\n",
        "\n",
        "my_dict = {'name': 'Alice', 'city': 'Paris'}\n",
        "if 'city' in my_dict:\n",
        "    print(\"Key exists!\")\n",
        "else:\n",
        "    print(\"Key does not exist!\")"
      ],
      "metadata": {
        "colab": {
          "base_uri": "https://localhost:8080/"
        },
        "collapsed": true,
        "id": "iFZrY8q3-A3B",
        "outputId": "2f17937a-8db4-4e58-c98e-2ea37b126572"
      },
      "execution_count": 27,
      "outputs": [
        {
          "output_type": "stream",
          "name": "stdout",
          "text": [
            "Key exists!\n"
          ]
        }
      ]
    },
    {
      "cell_type": "code",
      "source": [
        "# 26. Write a code to create a list, a tuple, and a dictionary, and print them all.\n",
        "\n",
        "my_list = [1, 2, 3, 4, 5]\n",
        "my_tuple = (10, 20, 30, 40, 50)\n",
        "my_dict = {'name': 'Shubham', 'age': 25}\n",
        "\n",
        "print(\"List:\", my_list)\n",
        "print(\"Tuple:\", my_tuple)\n",
        "print(\"Dictionary:\", my_dict)"
      ],
      "metadata": {
        "id": "T6FAlvYh-M2A"
      },
      "execution_count": null,
      "outputs": []
    },
    {
      "cell_type": "code",
      "source": [
        "# 27. Write a code to create a list of 5 random numbers between 1 and 100, sort it in ascending order, and print theresult.(replaced)\n",
        "\n",
        "import random\n",
        "\n",
        "my_list = random.sample(range(1, 101), 5)\n",
        "my_list.sort()\n",
        "print(my_list)"
      ],
      "metadata": {
        "id": "2J6Ih54G-iHg"
      },
      "execution_count": null,
      "outputs": []
    },
    {
      "cell_type": "code",
      "source": [
        "# 28. Write a code to create a list with strings and print the element at the third index.\n",
        "\n",
        "my_list = [\"apple\", \"banana\", \"cherry\", \"date\", \"elderberry\"]\n",
        "print(my_list[3])"
      ],
      "metadata": {
        "id": "Ig9EZQyb-36p"
      },
      "execution_count": null,
      "outputs": []
    },
    {
      "cell_type": "code",
      "source": [
        "# 29. Write a code to combine two dictionaries into one and print the result.\n",
        "\n",
        "dict1 = {'name': 'Shubham', 'age': 25}\n",
        "dict2 = {'city': 'Dehradun', 'country': 'Uttarakhand'}\n",
        "\n",
        "combined_dict = {**dict1, **dict2}\n",
        "print(combined_dict)"
      ],
      "metadata": {
        "colab": {
          "base_uri": "https://localhost:8080/"
        },
        "id": "OHckCGgO_EBR",
        "outputId": "32ee1809-4b3c-4122-b401-862c239e0a3e"
      },
      "execution_count": 28,
      "outputs": [
        {
          "output_type": "stream",
          "name": "stdout",
          "text": [
            "{'name': 'Shubham', 'age': 25, 'city': 'Dehradun', 'country': 'Uttarakhand'}\n"
          ]
        }
      ]
    },
    {
      "cell_type": "code",
      "source": [
        "# 30. Write a code to convert a list of strings into a set.\n",
        "\n",
        "my_list = [\"apple\", \"banana\", \"cherry\", \"apple\"]\n",
        "my_set = set(my_list)\n",
        "print(my_set)"
      ],
      "metadata": {
        "id": "YI-C8NTf_a_Z"
      },
      "execution_count": null,
      "outputs": []
    }
  ]
}